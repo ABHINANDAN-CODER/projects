{
 "cells": [
  {
   "cell_type": "code",
   "execution_count": 1,
   "id": "af5e63dc",
   "metadata": {},
   "outputs": [],
   "source": [
    "# Covid-19 DataVizulization using Python"
   ]
  },
  {
   "attachments": {},
   "cell_type": "markdown",
   "id": "a836cf6b",
   "metadata": {},
   "source": [
    "\n",
    "***DONE BY MCA 1ST YEAR GROUP 2***\n"
   ]
  },
  {
   "cell_type": "markdown",
   "id": "b9ce3a81",
   "metadata": {},
   "source": [
    ">OUR DEPENDENCIES"
   ]
  },
  {
   "cell_type": "code",
   "execution_count": 2,
   "id": "392c602a",
   "metadata": {},
   "outputs": [],
   "source": [
    "#!pip install pandas\n",
    "#!pip install plotly\n",
    "#!pip install dash\n",
    "#!pip install dash_bootstrap_components\n"
   ]
  },
  {
   "cell_type": "code",
   "execution_count": 3,
   "id": "fbab2b06",
   "metadata": {},
   "outputs": [],
   "source": [
    "\n",
    "import pandas as pd\n",
    "#pd.set_option('max_rows',20)\n",
    "import plotly.express as px\n",
    "import plotly.io as pio\n",
    "pio.renderers.default = \"browser\""
   ]
  },
  {
   "cell_type": "code",
   "execution_count": 4,
   "id": "c80ff8a8",
   "metadata": {},
   "outputs": [],
   "source": [
    "import dash\n",
    "from dash.dependencies import Input, Output\n",
    "from dash import dcc as dcc\n",
    "from dash import html as html\n",
    "import dash_bootstrap_components as dbc"
   ]
  },
  {
   "cell_type": "code",
   "execution_count": null,
   "id": "10c41ce4",
   "metadata": {},
   "outputs": [],
   "source": []
  },
  {
   "cell_type": "markdown",
   "id": "57983ddc",
   "metadata": {},
   "source": [
    ">We are creating the object and putting the data inside it."
   ]
  },
  {
   "cell_type": "code",
   "execution_count": 5,
   "id": "cac93fdd",
   "metadata": {},
   "outputs": [],
   "source": [
    "CONF_URL = 'https://raw.githubusercontent.com/ABHINANDAN-CODER/projects/main/python/visualization/covid-19/data/time_series_covid19_confirmed_global.csv'\n",
    "DEAD_URL = 'https://raw.githubusercontent.com/ABHINANDAN-CODER/projects/main/python/visualization/covid-19/data/time_series_covid19_deaths_global.csv'\n",
    "RECV_URL = 'https://raw.githubusercontent.com/ABHINANDAN-CODER/projects/main/python/visualization/covid-19/data/time_series_covid19_recovered_global.csv'\n"
   ]
  },
  {
   "cell_type": "markdown",
   "id": "b6eb51eb",
   "metadata": {},
   "source": [
    ">importing the DATA"
   ]
  },
  {
   "cell_type": "code",
   "execution_count": 7,
   "id": "f12509af",
   "metadata": {},
   "outputs": [],
   "source": [
    "covid_conf_ts = pd.read_csv(CONF_URL)\n",
    "covid_dead_ts = pd.read_csv(DEAD_URL)\n",
    "covid_recv_ts = pd.read_csv(RECV_URL)"
   ]
  },
  {
   "cell_type": "markdown",
   "id": "a2f32e58",
   "metadata": {},
   "source": [
    "##(Data Processing Unit)"
   ]
  },
  {
   "cell_type": "code",
   "execution_count": null,
   "id": "81efcb81",
   "metadata": {},
   "outputs": [],
   "source": [
    "#get data in cleaned time series format for country\n",
    "def process_data(data,cntry='US',window=3):\n",
    "    conf_ts = data\n",
    "    conf_ts_cntry = conf_ts[conf_ts['Country/Region']==cntry]\n",
    "    final_dataset = conf_ts_cntry.T[4:].sum(axis='columns').diff().rolling(window=window).mean()[40:]\n",
    "    df = pd.DataFrame(final_dataset,columns=['Total'])\n",
    "    return df\n",
    "    \n"
   ]
  },
  {
   "cell_type": "code",
   "execution_count": null,
   "id": "bb803d91",
   "metadata": {},
   "outputs": [
    {
     "name": "stdout",
     "output_type": "stream",
     "text": [
      "Overall Confirmed: 664223293\n",
      "Overall Dead: 6706893\n",
      "Overall RECOVERED: 657516400\n"
     ]
    }
   ],
   "source": [
    "def get_overall_total(df):\n",
    "    return df.iloc[:,-1].sum()\n",
    "\n",
    "conf_overall_total = get_overall_total(covid_conf_ts)\n",
    "dead_overall_total = get_overall_total(covid_dead_ts)\n",
    "recv_overall_total = get_overall_total(covid_conf_ts)-get_overall_total(covid_dead_ts)\n",
    "print('Overall Confirmed:',conf_overall_total)\n",
    "print('Overall Dead:',dead_overall_total)\n",
    "print('Overall RECOVERED:',recv_overall_total)"
   ]
  },
  {
   "cell_type": "code",
   "execution_count": null,
   "id": "8975dba9",
   "metadata": {},
   "outputs": [
    {
     "name": "stdout",
     "output_type": "stream",
     "text": [
      "US Confirmed: 101244321\n",
      "US Dead: 1096503\n",
      "US Recovered: 100147818\n"
     ]
    }
   ],
   "source": [
    "#get total for confirmed, recovered and dead for country \n",
    "def get_cntry_total(df,cntry='US'):\n",
    "    return df[df['Country/Region']==cntry].iloc[:,-1].sum()\n",
    "\n",
    "cntry = 'US'\n",
    "conf_cntry_total = get_cntry_total(covid_conf_ts,cntry)\n",
    "dead_cntry_total = get_cntry_total(covid_dead_ts,cntry)\n",
    "recv_cntry_total = get_cntry_total(covid_conf_ts,cntry)-get_cntry_total(covid_dead_ts,cntry)\n",
    "print(f'{cntry} Confirmed:',conf_cntry_total)\n",
    "print(f'{cntry} Dead:',dead_cntry_total)\n",
    "print(f'{cntry} Recovered:',recv_cntry_total)"
   ]
  },
  {
   "cell_type": "markdown",
   "id": "7116f777",
   "metadata": {},
   "source": [
    ">Generate the line Graph using plotly"
   ]
  },
  {
   "cell_type": "code",
   "execution_count": null,
   "id": "936103f3",
   "metadata": {},
   "outputs": [],
   "source": [
    "def fig_world_trend(cntry='US',window=3):\n",
    "    df = process_data(data=covid_conf_ts,cntry=cntry,window=window)\n",
    "    df.head(10)\n",
    "    if window==1:\n",
    "        yaxis_title = \"Daily Cases\"\n",
    "    else:\n",
    "        yaxis_title = \"Daily Cases ({}-day MA)\".format(window)\n",
    "    fig = px.line(df, y='Total', x=df.index, title='Daily confirmed cases trend for {}'.format(cntry),height=600,color_discrete_sequence =['maroon'])\n",
    "    fig.update_layout(title_x=0.5,plot_bgcolor='#F2DFCE',paper_bgcolor='#F2DFCE',xaxis_title=\"Date\",yaxis_title=yaxis_title)\n",
    "    return fig"
   ]
  },
  {
   "cell_type": "markdown",
   "id": "5e689906",
   "metadata": {},
   "source": [
    "# Dash Application work"
   ]
  },
  {
   "cell_type": "code",
   "execution_count": null,
   "id": "f8e66046",
   "metadata": {},
   "outputs": [],
   "source": [
    "external_stylesheets = [dbc.themes.BOOTSTRAP]"
   ]
  },
  {
   "cell_type": "code",
   "execution_count": null,
   "id": "68f0a555",
   "metadata": {},
   "outputs": [],
   "source": [
    "app = dash.Dash(__name__, external_stylesheets=external_stylesheets)\n",
    "app.title = 'COVID-19 DASHBOARD'"
   ]
  },
  {
   "cell_type": "markdown",
   "id": "47551f11",
   "metadata": {},
   "source": [
    "***Page Header***"
   ]
  },
  {
   "cell_type": "code",
   "execution_count": null,
   "id": "b02a775d",
   "metadata": {},
   "outputs": [],
   "source": [
    "colors = {\n",
    "    'background': '#111111',\n",
    "    'bodyColor':'#F2DFCE',\n",
    "    'text': '#7FDBFF'\n",
    "}\n",
    "def get_page_heading_style():\n",
    "    return {'backgroundColor': colors['background']}\n",
    "\n",
    "\n",
    "def get_page_heading_title():\n",
    "    return html.H1(children=' WELCOME TO Covid-19 Dashboard',\n",
    "                                        style={\n",
    "                                        'textAlign': 'center',\n",
    "                                        'color': colors['text']\n",
    "                                    })\n",
    "\n",
    "def get_page_heading_subtitle():\n",
    "    return html.Div(children='Visualize covid-19 generated from sources all over the world,done by Mca Student.',\n",
    "                                         style={\n",
    "                                             'textAlign':'center',\n",
    "                                             'color':colors['text']\n",
    "                                         })\n",
    "\n",
    "def generate_page_header():\n",
    "    main_header =  dbc.Row(\n",
    "                            [\n",
    "                                dbc.Col(get_page_heading_title(),md=12)\n",
    "                            ],\n",
    "                            align=\"center\",\n",
    "                            style=get_page_heading_style()\n",
    "                        )\n",
    "    subtitle_header = dbc.Row(\n",
    "                            [\n",
    "                                dbc.Col(get_page_heading_subtitle(),md=12)\n",
    "                            ],\n",
    "                            align=\"center\",\n",
    "                            style=get_page_heading_style()\n",
    "                        )\n",
    "    header = (main_header,subtitle_header)\n",
    "    return header"
   ]
  },
  {
   "cell_type": "markdown",
   "id": "97074ea6",
   "metadata": {},
   "source": [
    "# DropDown Method"
   ]
  },
  {
   "cell_type": "code",
   "execution_count": null,
   "id": "d438ba98",
   "metadata": {},
   "outputs": [],
   "source": [
    "def get_country_list():\n",
    "    return covid_conf_ts['Country/Region'].unique()\n",
    "\n",
    "def create_dropdown_list(cntry_list):\n",
    "    dropdown_list = []\n",
    "    for cntry in sorted(cntry_list):\n",
    "        tmp_dict = {'label':cntry,'value':cntry}\n",
    "        dropdown_list.append(tmp_dict)\n",
    "    return dropdown_list\n",
    "\n",
    "def get_country_dropdown(id):\n",
    "    return html.Div([\n",
    "                        html.Label('Select Country'),\n",
    "                        dcc.Dropdown(id='my-id'+str(id),\n",
    "                            options=create_dropdown_list(get_country_list()),\n",
    "                            value='US'\n",
    "                        ),\n",
    "                        html.Div(id='my-div'+str(id))\n",
    "                    ])"
   ]
  },
  {
   "cell_type": "markdown",
   "id": "3e824d57",
   "metadata": {},
   "source": [
    " <Graph Conainer for Dash"
   ]
  },
  {
   "cell_type": "code",
   "execution_count": null,
   "id": "47534c03",
   "metadata": {},
   "outputs": [],
   "source": [
    "def graph1():\n",
    "    return dcc.Graph(id='graph1',figure=fig_world_trend('US'))"
   ]
  },
  {
   "cell_type": "markdown",
   "id": "8deff748",
   "metadata": {},
   "source": [
    "<Generate CARDS for overall numbers"
   ]
  },
  {
   "cell_type": "code",
   "execution_count": null,
   "id": "62813763",
   "metadata": {},
   "outputs": [],
   "source": [
    "def generate_card_content(card_header,card_value,overall_value):\n",
    "    card_head_style = {'textAlign':'center','fontSize':'150%'}\n",
    "    card_body_style = {'textAlign':'center','fontSize':'200%'}\n",
    "    card_header = dbc.CardHeader(card_header,style=card_head_style)\n",
    "    card_body = dbc.CardBody(\n",
    "        [\n",
    "            html.H5(f\"{int(card_value):,}\", className=\"card-title\",style=card_body_style),\n",
    "            html.P(\n",
    "                \"Worlwide: {:,}\".format(overall_value),\n",
    "                className=\"card-text\",style={'textAlign':'center'}\n",
    "            ),\n",
    "        ]\n",
    "    )\n",
    "    card = [card_header,card_body]\n",
    "    return card"
   ]
  },
  {
   "cell_type": "code",
   "execution_count": null,
   "id": "d5822254",
   "metadata": {},
   "outputs": [],
   "source": [
    "def generate_cards(cntry='US'):\n",
    "    conf_cntry_total = get_cntry_total(covid_conf_ts,cntry)\n",
    "    dead_cntry_total = get_cntry_total(covid_dead_ts,cntry)\n",
    "    recv_cntry_total = get_cntry_total(covid_recv_ts,cntry)\n",
    "#     recv_cntry_total = get_cntry_total(covid_recv_ts,cntry)\n",
    "    cards = html.Div(\n",
    "        [\n",
    "            dbc.Row(\n",
    "                [\n",
    "                    dbc.Col(dbc.Card(generate_card_content(\"Recovery\",conf_cntry_total-dead_cntry_total,recv_overall_total), color=\"success\", inverse=True),md=dict(size=3)),\n",
    "                    dbc.Col(dbc.Card(generate_card_content(\"Confirmed\",conf_cntry_total,conf_overall_total), color=\"warning\", inverse=True),md=dict(size=2)),\n",
    "                    dbc.Col(dbc.Card(generate_card_content(\"Dead\",dead_cntry_total,dead_overall_total),color=\"dark\", inverse=True),md=dict(size=2)),\n",
    "                ],\n",
    "                className=\"mb-4\",\n",
    "            ),\n",
    "        ],id='card1'\n",
    "    )\n",
    "    return cards"
   ]
  },
  {
   "cell_type": "code",
   "execution_count": null,
   "id": "0e3b9f3e",
   "metadata": {},
   "outputs": [],
   "source": [
    "def get_slider():\n",
    "    return html.Div([  \n",
    "                        dcc.Slider(\n",
    "                            id='my-slider',\n",
    "                            min=1,\n",
    "                            max=15,\n",
    "                            step=None,\n",
    "                            marks={\n",
    "                                1: '1',\n",
    "                                3: '3',\n",
    "                                5: '5',\n",
    "                                7: '1-Week',\n",
    "                                14: 'Fortnight'\n",
    "                            },\n",
    "                            value=3,\n",
    "                        ),\n",
    "                        html.Div([html.Label('Select Moving Average Window')],id='my-div'+str(id),style={'textAlign':'center'})\n",
    "                    ])"
   ]
  },
  {
   "cell_type": "markdown",
   "id": "ac530ee7",
   "metadata": {},
   "source": [
    "<Get the App Layout\n",
    "     "
   ]
  },
  {
   "cell_type": "code",
   "execution_count": null,
   "id": "b058c08a",
   "metadata": {},
   "outputs": [],
   "source": [
    "def generate_layout():\n",
    "    page_header = generate_page_header()\n",
    "    layout = dbc.Container(\n",
    "        [\n",
    "            page_header[0],\n",
    "            page_header[1],\n",
    "            html.Hr(),\n",
    "            generate_cards(),\n",
    "            html.Hr(),\n",
    "            dbc.Row(\n",
    "                [\n",
    "                    dbc.Col(get_country_dropdown(id=1),md=dict(size=4,offset=4))                    \n",
    "                ]\n",
    "            \n",
    "            ),\n",
    "            dbc.Row(\n",
    "                [                \n",
    "                    \n",
    "                    dbc.Col(graph1(),md=dict(size=6,offset=3))\n",
    "        \n",
    "                ],\n",
    "                align=\"center\",\n",
    "\n",
    "            ),\n",
    "            dbc.Row(\n",
    "                [\n",
    "                    dbc.Col(get_slider(),md=dict(size=4,offset=4))                    \n",
    "                ]\n",
    "            \n",
    "            ),\n",
    "        ],fluid=True,style={'backgroundColor': colors['bodyColor']}\n",
    "    )\n",
    "    return layout"
   ]
  },
  {
   "cell_type": "markdown",
   "id": "5309e167",
   "metadata": {},
   "source": [
    "<create the object to run the app layout"
   ]
  },
  {
   "cell_type": "code",
   "execution_count": null,
   "id": "ce13f923",
   "metadata": {},
   "outputs": [],
   "source": [
    "app.layout = generate_layout()"
   ]
  },
  {
   "cell_type": "markdown",
   "id": "b6ac99df",
   "metadata": {},
   "source": [
    "# Assign DASH Callbacks"
   ]
  },
  {
   "cell_type": "code",
   "execution_count": null,
   "id": "52cd0c64",
   "metadata": {},
   "outputs": [],
   "source": [
    "@app.callback(\n",
    "    [Output(component_id='graph1',component_property='figure'), #line chart\n",
    "    Output(component_id='card1',component_property='children')], #overall card numbers\n",
    "    [Input(component_id='my-id1',component_property='value'), #dropdown\n",
    "     Input(component_id='my-slider',component_property='value')] #slider\n",
    ")\n",
    "def update_output_div(input_value1,input_value2):\n",
    "    return fig_world_trend(input_value1,input_value2),generate_cards(input_value1)"
   ]
  },
  {
   "cell_type": "markdown",
   "id": "97efab77",
   "metadata": {},
   "source": [
    "# RUN the APP AERVER"
   ]
  },
  {
   "cell_type": "code",
   "execution_count": null,
   "id": "6ff6a655",
   "metadata": {},
   "outputs": [
    {
     "name": "stdout",
     "output_type": "stream",
     "text": [
      "Dash is running on http://localhost:8050/\n",
      "\n",
      " * Serving Flask app '__main__'\n",
      " * Debug mode: off\n"
     ]
    },
    {
     "name": "stderr",
     "output_type": "stream",
     "text": [
      "WARNING: This is a development server. Do not use it in a production deployment. Use a production WSGI server instead.\n",
      " * Running on http://localhost:8050\n",
      "Press CTRL+C to quit\n",
      "127.0.0.1 - - [09/Jan/2023 11:25:36] \"GET / HTTP/1.1\" 200 -\n",
      "127.0.0.1 - - [09/Jan/2023 11:25:36] \"GET /robots.txt HTTP/1.1\" 200 -\n",
      "127.0.0.1 - - [09/Jan/2023 11:25:36] \"GET /_dash-layout HTTP/1.1\" 200 -\n",
      "127.0.0.1 - - [09/Jan/2023 11:25:36] \"GET /_dash-dependencies HTTP/1.1\" 200 -\n",
      "127.0.0.1 - - [09/Jan/2023 11:25:36] \"GET /_favicon.ico?v=2.7.1 HTTP/1.1\" 200 -\n",
      "127.0.0.1 - - [09/Jan/2023 11:25:36] \"GET /_dash-component-suites/dash/dcc/async-dropdown.js HTTP/1.1\" 304 -\n",
      "127.0.0.1 - - [09/Jan/2023 11:25:37] \"GET /_dash-component-suites/dash/dcc/async-graph.js HTTP/1.1\" 304 -\n",
      "127.0.0.1 - - [09/Jan/2023 11:25:37] \"POST /_dash-update-component HTTP/1.1\" 200 -\n",
      "127.0.0.1 - - [09/Jan/2023 11:25:37] \"GET /_dash-component-suites/dash/dcc/async-slider.js HTTP/1.1\" 304 -\n",
      "127.0.0.1 - - [09/Jan/2023 11:25:37] \"GET /_dash-component-suites/dash/dcc/async-plotlyjs.js HTTP/1.1\" 304 -\n",
      "127.0.0.1 - - [09/Jan/2023 11:25:53] \"POST /_dash-update-component HTTP/1.1\" 200 -\n",
      "127.0.0.1 - - [09/Jan/2023 11:25:55] \"POST /_dash-update-component HTTP/1.1\" 200 -\n",
      "127.0.0.1 - - [09/Jan/2023 11:25:58] \"POST /_dash-update-component HTTP/1.1\" 200 -\n",
      "127.0.0.1 - - [09/Jan/2023 11:27:12] \"POST /_dash-update-component HTTP/1.1\" 200 -\n",
      "127.0.0.1 - - [09/Jan/2023 11:28:25] \"POST /_dash-update-component HTTP/1.1\" 200 -\n",
      "127.0.0.1 - - [09/Jan/2023 11:57:31] \"POST /_dash-update-component HTTP/1.1\" 200 -\n",
      "127.0.0.1 - - [09/Jan/2023 11:57:34] \"POST /_dash-update-component HTTP/1.1\" 200 -\n",
      "127.0.0.1 - - [09/Jan/2023 11:57:48] \"POST /_dash-update-component HTTP/1.1\" 200 -\n",
      "127.0.0.1 - - [09/Jan/2023 11:57:53] \"POST /_dash-update-component HTTP/1.1\" 200 -\n",
      "127.0.0.1 - - [09/Jan/2023 11:57:56] \"POST /_dash-update-component HTTP/1.1\" 200 -\n"
     ]
    }
   ],
   "source": [
    "app.run_server(host= 'localhost',debug=False)\n"
   ]
  },
  {
   "cell_type": "code",
   "execution_count": null,
   "id": "3044aa54",
   "metadata": {},
   "outputs": [],
   "source": []
  }
 ],
 "metadata": {
  "kernelspec": {
   "display_name": "Python 3",
   "language": "python",
   "name": "python3"
  },
  "language_info": {
   "codemirror_mode": {
    "name": "ipython",
    "version": 3
   },
   "file_extension": ".py",
   "mimetype": "text/x-python",
   "name": "python",
   "nbconvert_exporter": "python",
   "pygments_lexer": "ipython3",
   "version": "3.10.9"
  },
  "vscode": {
   "interpreter": {
    "hash": "0f0553cb405aabd95e06a43738864be9c814d59b00f50376ce12693b29931b9a"
   }
  }
 },
 "nbformat": 4,
 "nbformat_minor": 5
}
